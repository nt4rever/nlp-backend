{
 "cells": [
  {
   "cell_type": "code",
   "execution_count": 1,
   "metadata": {},
   "outputs": [],
   "source": [
    "from typing import Tuple, List\n",
    "from sklearn.decomposition import PCA\n",
    "from sklearn.cluster import KMeans\n",
    "from sklearn.metrics.pairwise import pairwise_distances\n",
    "import numpy as np\n",
    "import pandas as pd\n",
    "import plotly.express as px\n",
    "import re\n",
    "from sentence_transformers import SentenceTransformer\n"
   ]
  },
  {
   "cell_type": "code",
   "execution_count": 5,
   "metadata": {},
   "outputs": [],
   "source": [
    "class Model(object):\n",
    "    def __init__(self, model_path):\n",
    "        super(Model, self).__init__()\n",
    "        self.sbert = SentenceTransformer(model_path)\n",
    "\n",
    "    def measure_distance(self, sents: Tuple[str, str]):\n",
    "        # compute embeddings\n",
    "        corpus_embeddings = self.sbert.encode(sents)\n",
    "        # compute distance\n",
    "        distances = (\n",
    "            pairwise_distances(\n",
    "                corpus_embeddings[0].reshape(1, -1),\n",
    "                corpus_embeddings[1].reshape(1, -1),\n",
    "                metric)[0][0] for metric in [\"cosine\", \"manhattan\", \"euclidean\"]\n",
    "        )\n",
    "        return distances\n",
    "\n",
    "    def fit_kmeans(self, corpus: List[str], n_clusters: int):\n",
    "        # compute embeddings\n",
    "        corpus_embeddings = self.sbert.encode(corpus)\n",
    "        # cluster\n",
    "        clustering_model = KMeans(n_clusters)\n",
    "        clustering_model.fit(corpus_embeddings)\n",
    "        # perform PCA\n",
    "        n_components = int(len(corpus) > 2) + 2\n",
    "        pca = PCA(n_components)\n",
    "        X = np.array(corpus_embeddings)\n",
    "        X_reduced = pca.fit_transform(X)\n",
    "        # plot corpus in 3d scatter plot\n",
    "        df = pd.DataFrame({\n",
    "            'sent': corpus,\n",
    "            'cluster': clustering_model.labels_.astype(str),\n",
    "            'x': X_reduced[:, 0],\n",
    "            'y': X_reduced[:, 1],\n",
    "            'z': X_reduced[:, 2] if X_reduced.shape[1] > 2 else np.zeros(X_reduced.shape[0])\n",
    "        })\n",
    "        \n",
    "        fig = px.scatter_3d(df, x='x', y='y', z='z',\n",
    "                            color='cluster', hover_name='sent',\n",
    "                            range_x=[df.x.min()-1, df.x.max()+1],\n",
    "                            range_y=[df.y.min()-1, df.y.max()+1],\n",
    "                            range_z=[df.z.min()-1, df.z.max()+1])\n",
    "        fig.update_traces(hovertemplate='<b>%{hovertext}</b>')\n",
    "        # convert graph to html and replace its id\n",
    "        graph = fig.to_html(full_html=False, include_plotlyjs=False)\n",
    "        return fig.to_json()\n",
    "        # re_graph = r\"Plotly\\.newPlot\\(\\s*'(.*?)',.*?\\)\"\n",
    "        # groups_html = re.search(re_graph, graph, re.DOTALL)\n",
    "        # result = groups_html[0].replace(groups_html[1], 'plotly')\n",
    "        # return result\n",
    "\n",
    "\n",
    "model = Model('./store/all-mpnet-base-v2')\n",
    "\n",
    "\n",
    "def get_model():\n",
    "    return model"
   ]
  },
  {
   "cell_type": "code",
   "execution_count": 3,
   "metadata": {},
   "outputs": [],
   "source": [
    "text = [\n",
    "    \"What is a singleton class\",\n",
    "    \"What is the difference between an Inner Class and a Sub-Class\",\n",
    "    \"While loop is used when certain statements need to be executed repeatedly until a condition is \",\n",
    "    \"What is an infinite Loop\",\n",
    "    \"Do While Loop is same as While loop with only difference\"\n",
    "]\n",
    "cluster = 3"
   ]
  },
  {
   "cell_type": "code",
   "execution_count": null,
   "metadata": {},
   "outputs": [],
   "source": [
    "model.fit_kmeans(text, cluster)"
   ]
  }
 ],
 "metadata": {
  "kernelspec": {
   "display_name": "Python 3.9.15 ('nt4rever')",
   "language": "python",
   "name": "python3"
  },
  "language_info": {
   "codemirror_mode": {
    "name": "ipython",
    "version": 3
   },
   "file_extension": ".py",
   "mimetype": "text/x-python",
   "name": "python",
   "nbconvert_exporter": "python",
   "pygments_lexer": "ipython3",
   "version": "3.9.15"
  },
  "orig_nbformat": 4,
  "vscode": {
   "interpreter": {
    "hash": "a13d72695c8b29f1e7b38f714de16868d519c0f0659bc3581a87d3601c01032b"
   }
  }
 },
 "nbformat": 4,
 "nbformat_minor": 2
}
