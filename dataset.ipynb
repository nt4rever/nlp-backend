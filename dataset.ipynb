{
 "cells": [
  {
   "cell_type": "code",
   "execution_count": 1,
   "metadata": {},
   "outputs": [],
   "source": [
    "import pandas as pd\n",
    "import numpy as np"
   ]
  },
  {
   "cell_type": "code",
   "execution_count": 7,
   "metadata": {},
   "outputs": [
    {
     "data": {
      "text/html": [
       "<div>\n",
       "<style scoped>\n",
       "    .dataframe tbody tr th:only-of-type {\n",
       "        vertical-align: middle;\n",
       "    }\n",
       "\n",
       "    .dataframe tbody tr th {\n",
       "        vertical-align: top;\n",
       "    }\n",
       "\n",
       "    .dataframe thead th {\n",
       "        text-align: right;\n",
       "    }\n",
       "</style>\n",
       "<table border=\"1\" class=\"dataframe\">\n",
       "  <thead>\n",
       "    <tr style=\"text-align: right;\">\n",
       "      <th></th>\n",
       "      <th>ID</th>\n",
       "      <th>QUESTION</th>\n",
       "      <th>ANSWER</th>\n",
       "    </tr>\n",
       "  </thead>\n",
       "  <tbody>\n",
       "    <tr>\n",
       "      <th>0</th>\n",
       "      <td>1</td>\n",
       "      <td>What is the difference between an Inner Class ...</td>\n",
       "      <td>An Inner class is a class which is nested with...</td>\n",
       "    </tr>\n",
       "    <tr>\n",
       "      <th>1</th>\n",
       "      <td>2</td>\n",
       "      <td>What are the various access specifiers for Jav...</td>\n",
       "      <td>In Java, access specifiers are the keywords us...</td>\n",
       "    </tr>\n",
       "    <tr>\n",
       "      <th>2</th>\n",
       "      <td>3</td>\n",
       "      <td>What's the purpose of Static methods and stati...</td>\n",
       "      <td>When there is a requirement to share a method ...</td>\n",
       "    </tr>\n",
       "    <tr>\n",
       "      <th>3</th>\n",
       "      <td>4</td>\n",
       "      <td>What is data encapsulation and what's its sign...</td>\n",
       "      <td>Encapsulation is a concept in Object Oriented ...</td>\n",
       "    </tr>\n",
       "    <tr>\n",
       "      <th>4</th>\n",
       "      <td>5</td>\n",
       "      <td>What is a singleton class? Give a practical ex...</td>\n",
       "      <td>A singleton class in java can have only one in...</td>\n",
       "    </tr>\n",
       "  </tbody>\n",
       "</table>\n",
       "</div>"
      ],
      "text/plain": [
       "   ID                                           QUESTION  \\\n",
       "0   1  What is the difference between an Inner Class ...   \n",
       "1   2  What are the various access specifiers for Jav...   \n",
       "2   3  What's the purpose of Static methods and stati...   \n",
       "3   4  What is data encapsulation and what's its sign...   \n",
       "4   5  What is a singleton class? Give a practical ex...   \n",
       "\n",
       "                                              ANSWER  \n",
       "0  An Inner class is a class which is nested with...  \n",
       "1  In Java, access specifiers are the keywords us...  \n",
       "2  When there is a requirement to share a method ...  \n",
       "3  Encapsulation is a concept in Object Oriented ...  \n",
       "4  A singleton class in java can have only one in...  "
      ]
     },
     "execution_count": 7,
     "metadata": {},
     "output_type": "execute_result"
    }
   ],
   "source": [
    "data = pd.read_csv('./store/csv/java questions - Sheet1.csv')\n",
    "data.dropna()\n",
    "data = data.fillna('')\n",
    "data.reset_index(drop=True, inplace=True)\n",
    "data.head()"
   ]
  },
  {
   "cell_type": "code",
   "execution_count": 3,
   "metadata": {},
   "outputs": [
    {
     "name": "stdout",
     "output_type": "stream",
     "text": [
      "!\"#$%&'()*+,-./:;<=>?@[\\]^_`{|}~\n"
     ]
    }
   ],
   "source": [
    "import string\n",
    "punctuations = string.punctuation\n",
    "print(punctuations)"
   ]
  },
  {
   "cell_type": "code",
   "execution_count": 4,
   "metadata": {},
   "outputs": [],
   "source": [
    "def remove_punc(sen):\n",
    "  return sen.translate(str.maketrans('', '', string.punctuation))"
   ]
  },
  {
   "cell_type": "code",
   "execution_count": 8,
   "metadata": {},
   "outputs": [
    {
     "data": {
      "text/html": [
       "<div>\n",
       "<style scoped>\n",
       "    .dataframe tbody tr th:only-of-type {\n",
       "        vertical-align: middle;\n",
       "    }\n",
       "\n",
       "    .dataframe tbody tr th {\n",
       "        vertical-align: top;\n",
       "    }\n",
       "\n",
       "    .dataframe thead th {\n",
       "        text-align: right;\n",
       "    }\n",
       "</style>\n",
       "<table border=\"1\" class=\"dataframe\">\n",
       "  <thead>\n",
       "    <tr style=\"text-align: right;\">\n",
       "      <th></th>\n",
       "      <th>ID</th>\n",
       "      <th>QUESTION</th>\n",
       "      <th>ANSWER</th>\n",
       "      <th>TOKENIZE</th>\n",
       "    </tr>\n",
       "  </thead>\n",
       "  <tbody>\n",
       "    <tr>\n",
       "      <th>0</th>\n",
       "      <td>1</td>\n",
       "      <td>What is the difference between an Inner Class ...</td>\n",
       "      <td>An Inner class is a class which is nested with...</td>\n",
       "      <td>What is the difference between an Inner Class ...</td>\n",
       "    </tr>\n",
       "    <tr>\n",
       "      <th>1</th>\n",
       "      <td>2</td>\n",
       "      <td>What are the various access specifiers for Jav...</td>\n",
       "      <td>In Java, access specifiers are the keywords us...</td>\n",
       "      <td>What are the various access specifiers for Jav...</td>\n",
       "    </tr>\n",
       "    <tr>\n",
       "      <th>2</th>\n",
       "      <td>3</td>\n",
       "      <td>What's the purpose of Static methods and stati...</td>\n",
       "      <td>When there is a requirement to share a method ...</td>\n",
       "      <td>Whats the purpose of Static methods and static...</td>\n",
       "    </tr>\n",
       "    <tr>\n",
       "      <th>3</th>\n",
       "      <td>4</td>\n",
       "      <td>What is data encapsulation and what's its sign...</td>\n",
       "      <td>Encapsulation is a concept in Object Oriented ...</td>\n",
       "      <td>What is data encapsulation and whats its signi...</td>\n",
       "    </tr>\n",
       "    <tr>\n",
       "      <th>4</th>\n",
       "      <td>5</td>\n",
       "      <td>What is a singleton class? Give a practical ex...</td>\n",
       "      <td>A singleton class in java can have only one in...</td>\n",
       "      <td>What is a singleton class Give a practical exa...</td>\n",
       "    </tr>\n",
       "  </tbody>\n",
       "</table>\n",
       "</div>"
      ],
      "text/plain": [
       "   ID                                           QUESTION  \\\n",
       "0   1  What is the difference between an Inner Class ...   \n",
       "1   2  What are the various access specifiers for Jav...   \n",
       "2   3  What's the purpose of Static methods and stati...   \n",
       "3   4  What is data encapsulation and what's its sign...   \n",
       "4   5  What is a singleton class? Give a practical ex...   \n",
       "\n",
       "                                              ANSWER  \\\n",
       "0  An Inner class is a class which is nested with...   \n",
       "1  In Java, access specifiers are the keywords us...   \n",
       "2  When there is a requirement to share a method ...   \n",
       "3  Encapsulation is a concept in Object Oriented ...   \n",
       "4  A singleton class in java can have only one in...   \n",
       "\n",
       "                                            TOKENIZE  \n",
       "0  What is the difference between an Inner Class ...  \n",
       "1  What are the various access specifiers for Jav...  \n",
       "2  Whats the purpose of Static methods and static...  \n",
       "3  What is data encapsulation and whats its signi...  \n",
       "4  What is a singleton class Give a practical exa...  "
      ]
     },
     "execution_count": 8,
     "metadata": {},
     "output_type": "execute_result"
    }
   ],
   "source": [
    "data['TOKENIZE'] = data['QUESTION'].apply(remove_punc)\n",
    "data.head()"
   ]
  },
  {
   "cell_type": "code",
   "execution_count": 9,
   "metadata": {},
   "outputs": [],
   "source": [
    "data.to_csv('./store/csv/java.csv')"
   ]
  },
  {
   "cell_type": "code",
   "execution_count": 8,
   "metadata": {},
   "outputs": [],
   "source": [
    "from sentence_transformers import SentenceTransformer\n",
    "model = SentenceTransformer('./store/all-mpnet-base-v2')"
   ]
  },
  {
   "cell_type": "code",
   "execution_count": 9,
   "metadata": {},
   "outputs": [],
   "source": [
    "data['EMBEDDING'] = data['TOKENIZE'].apply(model.encode)"
   ]
  },
  {
   "cell_type": "code",
   "execution_count": 10,
   "metadata": {},
   "outputs": [
    {
     "data": {
      "text/html": [
       "<div>\n",
       "<style scoped>\n",
       "    .dataframe tbody tr th:only-of-type {\n",
       "        vertical-align: middle;\n",
       "    }\n",
       "\n",
       "    .dataframe tbody tr th {\n",
       "        vertical-align: top;\n",
       "    }\n",
       "\n",
       "    .dataframe thead th {\n",
       "        text-align: right;\n",
       "    }\n",
       "</style>\n",
       "<table border=\"1\" class=\"dataframe\">\n",
       "  <thead>\n",
       "    <tr style=\"text-align: right;\">\n",
       "      <th></th>\n",
       "      <th>ID</th>\n",
       "      <th>QUESTION</th>\n",
       "      <th>ANSWER</th>\n",
       "      <th>TOKENIZE</th>\n",
       "      <th>EMBEDDING</th>\n",
       "    </tr>\n",
       "  </thead>\n",
       "  <tbody>\n",
       "    <tr>\n",
       "      <th>0</th>\n",
       "      <td>1.0</td>\n",
       "      <td>What is the difference between an Inner Class ...</td>\n",
       "      <td>An Inner class is a class which is nested with...</td>\n",
       "      <td>What is the difference between an Inner Class ...</td>\n",
       "      <td>[0.0694019, -0.02986107, -0.005415486, 0.04628...</td>\n",
       "    </tr>\n",
       "    <tr>\n",
       "      <th>1</th>\n",
       "      <td>2.0</td>\n",
       "      <td>What are the various access specifiers for Jav...</td>\n",
       "      <td>In Java, access specifiers are the keywords us...</td>\n",
       "      <td>What are the various access specifiers for Jav...</td>\n",
       "      <td>[0.036012873, -0.029415509, 0.019514048, 0.047...</td>\n",
       "    </tr>\n",
       "    <tr>\n",
       "      <th>2</th>\n",
       "      <td>3.0</td>\n",
       "      <td>What's the purpose of Static methods and stati...</td>\n",
       "      <td>When there is a requirement to share a method ...</td>\n",
       "      <td>Whats the purpose of Static methods and static...</td>\n",
       "      <td>[0.054744836, -0.032370344, 0.004369244, -0.05...</td>\n",
       "    </tr>\n",
       "    <tr>\n",
       "      <th>3</th>\n",
       "      <td>4.0</td>\n",
       "      <td>What is data encapsulation and what's its sign...</td>\n",
       "      <td>Encapsulation is a concept in Object Oriented ...</td>\n",
       "      <td>What is data encapsulation and whats its signi...</td>\n",
       "      <td>[-0.016394448, -0.037066396, -0.029610852, 0.0...</td>\n",
       "    </tr>\n",
       "    <tr>\n",
       "      <th>4</th>\n",
       "      <td>5.0</td>\n",
       "      <td>What is a singleton class? Give a practical ex...</td>\n",
       "      <td>A singleton class in java can have only one in...</td>\n",
       "      <td>What is a singleton class Give a practical exa...</td>\n",
       "      <td>[0.041534092, -0.009733305, 0.030775681, 0.023...</td>\n",
       "    </tr>\n",
       "  </tbody>\n",
       "</table>\n",
       "</div>"
      ],
      "text/plain": [
       "    ID                                           QUESTION  \\\n",
       "0  1.0  What is the difference between an Inner Class ...   \n",
       "1  2.0  What are the various access specifiers for Jav...   \n",
       "2  3.0  What's the purpose of Static methods and stati...   \n",
       "3  4.0  What is data encapsulation and what's its sign...   \n",
       "4  5.0  What is a singleton class? Give a practical ex...   \n",
       "\n",
       "                                              ANSWER  \\\n",
       "0  An Inner class is a class which is nested with...   \n",
       "1  In Java, access specifiers are the keywords us...   \n",
       "2  When there is a requirement to share a method ...   \n",
       "3  Encapsulation is a concept in Object Oriented ...   \n",
       "4  A singleton class in java can have only one in...   \n",
       "\n",
       "                                            TOKENIZE  \\\n",
       "0  What is the difference between an Inner Class ...   \n",
       "1  What are the various access specifiers for Jav...   \n",
       "2  Whats the purpose of Static methods and static...   \n",
       "3  What is data encapsulation and whats its signi...   \n",
       "4  What is a singleton class Give a practical exa...   \n",
       "\n",
       "                                           EMBEDDING  \n",
       "0  [0.0694019, -0.02986107, -0.005415486, 0.04628...  \n",
       "1  [0.036012873, -0.029415509, 0.019514048, 0.047...  \n",
       "2  [0.054744836, -0.032370344, 0.004369244, -0.05...  \n",
       "3  [-0.016394448, -0.037066396, -0.029610852, 0.0...  \n",
       "4  [0.041534092, -0.009733305, 0.030775681, 0.023...  "
      ]
     },
     "execution_count": 10,
     "metadata": {},
     "output_type": "execute_result"
    }
   ],
   "source": [
    "data.head()"
   ]
  },
  {
   "cell_type": "code",
   "execution_count": 11,
   "metadata": {},
   "outputs": [],
   "source": [
    "data.to_csv('./store/csv/java_encode.csv')"
   ]
  },
  {
   "cell_type": "code",
   "execution_count": 12,
   "metadata": {},
   "outputs": [],
   "source": [
    "que = \"what is object\"\n",
    "question_embedding = model.encode(que)"
   ]
  },
  {
   "cell_type": "code",
   "execution_count": 13,
   "metadata": {},
   "outputs": [],
   "source": [
    "from sklearn.metrics.pairwise import cosine_similarity"
   ]
  },
  {
   "cell_type": "code",
   "execution_count": 20,
   "metadata": {},
   "outputs": [],
   "source": [
    "sen_embeddings = data['EMBEDDING'].to_list()"
   ]
  },
  {
   "cell_type": "code",
   "execution_count": 21,
   "metadata": {},
   "outputs": [],
   "source": [
    "score = cosine_similarity(\n",
    "        [question_embedding],\n",
    "        sen_embeddings\n",
    "    )"
   ]
  },
  {
   "cell_type": "code",
   "execution_count": 22,
   "metadata": {},
   "outputs": [
    {
     "data": {
      "text/html": [
       "<div>\n",
       "<style scoped>\n",
       "    .dataframe tbody tr th:only-of-type {\n",
       "        vertical-align: middle;\n",
       "    }\n",
       "\n",
       "    .dataframe tbody tr th {\n",
       "        vertical-align: top;\n",
       "    }\n",
       "\n",
       "    .dataframe thead th {\n",
       "        text-align: right;\n",
       "    }\n",
       "</style>\n",
       "<table border=\"1\" class=\"dataframe\">\n",
       "  <thead>\n",
       "    <tr style=\"text-align: right;\">\n",
       "      <th></th>\n",
       "      <th>ID</th>\n",
       "      <th>QUESTION</th>\n",
       "      <th>ANSWER</th>\n",
       "      <th>TOKENIZE</th>\n",
       "      <th>EMBEDDING</th>\n",
       "      <th>SCORE</th>\n",
       "    </tr>\n",
       "  </thead>\n",
       "  <tbody>\n",
       "    <tr>\n",
       "      <th>132</th>\n",
       "      <td>NaN</td>\n",
       "      <td>What is a Object in Java?</td>\n",
       "      <td>An object in Java is a data structure that rep...</td>\n",
       "      <td>What is a Object in Java</td>\n",
       "      <td>[0.05080587, -0.030771755, 0.01791886, 0.01750...</td>\n",
       "      <td>0.767736</td>\n",
       "    </tr>\n",
       "    <tr>\n",
       "      <th>79</th>\n",
       "      <td>80.0</td>\n",
       "      <td>How objects are stored in Java?</td>\n",
       "      <td>In java, each object when created gets a memor...</td>\n",
       "      <td>How objects are stored in Java</td>\n",
       "      <td>[0.06140459, -0.029576741, -0.0014676576, 0.04...</td>\n",
       "      <td>0.508093</td>\n",
       "    </tr>\n",
       "    <tr>\n",
       "      <th>53</th>\n",
       "      <td>54.0</td>\n",
       "      <td>How can we use primitive data types as objects?</td>\n",
       "      <td>Primitive data types like int can be handled a...</td>\n",
       "      <td>How can we use primitive data types as objects</td>\n",
       "      <td>[0.009015653, 0.05175467, -0.010638127, 0.0527...</td>\n",
       "      <td>0.474330</td>\n",
       "    </tr>\n",
       "    <tr>\n",
       "      <th>22</th>\n",
       "      <td>23.0</td>\n",
       "      <td>How an object is serialized in java?</td>\n",
       "      <td>In java, to convert an object into byte stream...</td>\n",
       "      <td>How an object is serialized in java</td>\n",
       "      <td>[0.03892627, -0.02505915, 0.0124929, 0.0165237...</td>\n",
       "      <td>0.378117</td>\n",
       "    </tr>\n",
       "    <tr>\n",
       "      <th>95</th>\n",
       "      <td>96.0</td>\n",
       "      <td>Why is Java not a pure object oriented language?</td>\n",
       "      <td>Java supports primitive data types - byte, boo...</td>\n",
       "      <td>Why is Java not a pure object oriented language</td>\n",
       "      <td>[0.05268793, 0.03985381, -0.01995704, 0.002549...</td>\n",
       "      <td>0.364945</td>\n",
       "    </tr>\n",
       "  </tbody>\n",
       "</table>\n",
       "</div>"
      ],
      "text/plain": [
       "       ID                                          QUESTION  \\\n",
       "132   NaN                         What is a Object in Java?   \n",
       "79   80.0                   How objects are stored in Java?   \n",
       "53   54.0   How can we use primitive data types as objects?   \n",
       "22   23.0              How an object is serialized in java?   \n",
       "95   96.0  Why is Java not a pure object oriented language?   \n",
       "\n",
       "                                                ANSWER  \\\n",
       "132  An object in Java is a data structure that rep...   \n",
       "79   In java, each object when created gets a memor...   \n",
       "53   Primitive data types like int can be handled a...   \n",
       "22   In java, to convert an object into byte stream...   \n",
       "95   Java supports primitive data types - byte, boo...   \n",
       "\n",
       "                                            TOKENIZE  \\\n",
       "132                         What is a Object in Java   \n",
       "79                    How objects are stored in Java   \n",
       "53    How can we use primitive data types as objects   \n",
       "22               How an object is serialized in java   \n",
       "95   Why is Java not a pure object oriented language   \n",
       "\n",
       "                                             EMBEDDING     SCORE  \n",
       "132  [0.05080587, -0.030771755, 0.01791886, 0.01750...  0.767736  \n",
       "79   [0.06140459, -0.029576741, -0.0014676576, 0.04...  0.508093  \n",
       "53   [0.009015653, 0.05175467, -0.010638127, 0.0527...  0.474330  \n",
       "22   [0.03892627, -0.02505915, 0.0124929, 0.0165237...  0.378117  \n",
       "95   [0.05268793, 0.03985381, -0.01995704, 0.002549...  0.364945  "
      ]
     },
     "execution_count": 22,
     "metadata": {},
     "output_type": "execute_result"
    }
   ],
   "source": [
    "res = data.copy()\n",
    "res['SCORE'] = score[0]\n",
    "res.sort_values(by='SCORE', inplace=True, ascending=False)\n",
    "res.head()"
   ]
  },
  {
   "cell_type": "code",
   "execution_count": null,
   "metadata": {},
   "outputs": [],
   "source": []
  }
 ],
 "metadata": {
  "kernelspec": {
   "display_name": "Python 3.9.15 ('nt4rever')",
   "language": "python",
   "name": "python3"
  },
  "language_info": {
   "codemirror_mode": {
    "name": "ipython",
    "version": 3
   },
   "file_extension": ".py",
   "mimetype": "text/x-python",
   "name": "python",
   "nbconvert_exporter": "python",
   "pygments_lexer": "ipython3",
   "version": "3.9.15"
  },
  "orig_nbformat": 4,
  "vscode": {
   "interpreter": {
    "hash": "a13d72695c8b29f1e7b38f714de16868d519c0f0659bc3581a87d3601c01032b"
   }
  }
 },
 "nbformat": 4,
 "nbformat_minor": 2
}
